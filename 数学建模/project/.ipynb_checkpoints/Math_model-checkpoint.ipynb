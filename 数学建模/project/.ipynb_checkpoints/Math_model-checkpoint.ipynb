{
 "cells": [
  {
   "cell_type": "markdown",
   "metadata": {},
   "source": [
    "## 模块导入"
   ]
  },
  {
   "cell_type": "code",
   "execution_count": 68,
   "metadata": {},
   "outputs": [
    {
     "name": "stdout",
     "output_type": "stream",
     "text": [
      "[WinError 183] 当文件已存在时，无法创建该文件。: 'pictures'\n"
     ]
    }
   ],
   "source": [
    "import os\n",
    "import warnings\n",
    "import numpy as np\n",
    "import pandas as pd\n",
    "import seaborn as sns\n",
    "from sklearn import svm\n",
    "import matplotlib.pyplot as plt\n",
    "from sklearn.metrics import confusion_matrix\n",
    "from sklearn.tree import DecisionTreeClassifier\n",
    "from sklearn.model_selection import StratifiedKFold\n",
    "from sklearn.model_selection import GridSearchCV, ShuffleSplit\n",
    "from sklearn.preprocessing import StandardScaler, MinMaxScaler\n",
    "from sklearn.model_selection import train_test_split, cross_val_score, learning_curve\n",
    "from sklearn.linear_model import LogisticRegression\n",
    "from sklearn.ensemble import RandomForestClassifier\n",
    "from sklearn.neighbors import KNeighborsClassifier\n",
    "from sklearn.ensemble import VotingClassifier\n",
    "from sklearn.metrics import classification_report\n",
    "from sklearn.pipeline import Pipeline\n",
    "from sklearn.metrics import f1_score\n",
    "from sklearn.ensemble import AdaBoostClassifier, GradientBoostingClassifier\n",
    "from sklearn.metrics import roc_curve, auc  ###计算roc和auc\n",
    "from sklearn.naive_bayes import GaussianNB #Naive bayes\n",
    "from sklearn.feature_selection import VarianceThreshold\n",
    "from sklearn.feature_selection import SelectKBest\n",
    "from sklearn.feature_selection import RFE\n",
    "from sklearn.ensemble import ExtraTreesClassifier\n",
    "from sklearn.feature_selection import SelectFromModel\n",
    "from sklearn.decomposition import PCA\n",
    "from collections import Counter\n",
    "%matplotlib inline\n",
    "warnings.filterwarnings('ignore')\n",
    "try:\n",
    "    os.makedirs('pictures') # 创建保存图片的文件夹\n",
    "    os.makedirs('pictures/data_hist')\n",
    "    os.makedirs('pictures/data_disper_hist')\n",
    "    os.makedirs('pictures/fuzzy_hist')\n",
    "    os.makedirs('pictures\\\\model_cm')\n",
    "    os.makedirs('pictures\\\\model_lc')\n",
    "    os.makedirs('pictures\\\\model_roc')\n",
    "except Exception as err:\n",
    "    print(err)"
   ]
  },
  {
   "cell_type": "markdown",
   "metadata": {},
   "source": [
    "## 工具类"
   ]
  },
  {
   "cell_type": "markdown",
   "metadata": {},
   "source": [
    "### 数据获取"
   ]
  },
  {
   "cell_type": "code",
   "execution_count": 2,
   "metadata": {},
   "outputs": [],
   "source": [
    "class GetData:\n",
    "    def __init__(self):\n",
    "        self.__train_data = pd.read_excel('./Data.xlsx', sheet_name=0)\n",
    "        self.__test_data = pd.read_excel('./Data.xlsx', sheet_name=1)\n",
    "        \n",
    "    @property \n",
    "    def train_data(self):\n",
    "        self.__train_data.rename(columns = {\"是否含有特定成分(1为含有，0为不含)\": \"label\"}, inplace=True)\n",
    "        return self.__train_data\n",
    "    \n",
    "    @property\n",
    "    def test_data(self):\n",
    "        return self.__test_data\n",
    "        \n",
    "        "
   ]
  },
  {
   "cell_type": "markdown",
   "metadata": {},
   "source": [
    "### 数据可视化"
   ]
  },
  {
   "cell_type": "code",
   "execution_count": 69,
   "metadata": {},
   "outputs": [],
   "source": [
    "class Visualization:\n",
    "    \"\"\"\n",
    "    数据可视化类，对原始数据可视化，以作为预处理的参考\n",
    "    \"\"\"\n",
    "    def __init__(self):\n",
    "        pass\n",
    "    \n",
    "    @classmethod\n",
    "    def show_pairplot(cls, data):\n",
    "        sns.pairplot(data = data, vars=data.iloc[:, :-1], hue='label', palette='husl')\n",
    "        plt.savefig('pictures/data_pairplot')\n",
    "        plt.show()\n",
    "        return\n",
    "        \n",
    "    @classmethod\n",
    "    def show_hist(cls, data, col_num):\n",
    "#         %matplotlib notebook\n",
    "#         %matplotlib inline\n",
    "\n",
    "        plt.figure(figsize = (12, 6), dpi = 80)\n",
    "#         plt.hist(data.iloc[: , col_num][df_final['label'] == 1], color='r', alpha = 0.6 )\n",
    "#         plt.hist(data.iloc[: , col_num][df_final['label'] == 0], color='b', alpha = 0.6 )\n",
    "        sns.distplot(data.iloc[: , col_num][df_final['label'] == 1], color = 'r', label = '1')\n",
    "        sns.distplot(data.iloc[: , col_num][df_final['label'] == 0], color = 'b', label = '0')\n",
    "#         plt.xticks(np.arange(0, 9, 1))\n",
    "        plt.title(list(data.columns)[col_num])\n",
    "        plt.legend()\n",
    "        plt.grid()\n",
    "        plt.savefig(\"pictures/data_hist/\"+list(data.columns)[col_num])\n",
    "        plt.show()\n",
    "        return\n",
    "    \n",
    "    @classmethod\n",
    "    def show_disper_hist(cls, data, col_num, k):\n",
    "#         %matplotlib notebook\n",
    "#         %matplotlib inline\n",
    "\n",
    "        plt.figure(figsize = (14, 8), dpi = 80)\n",
    "#         plt.hist(data.iloc[: , col_num][df_final['label'] == 1], color='r', alpha = 0.6 )\n",
    "#         plt.hist(data.iloc[: , col_num][df_final['label'] == 0], color='b', alpha = 0.6 )\n",
    "        sns.distplot(data.iloc[: , col_num][df_final['label'] == 1], bins = np.arange(0, k, ), color = 'r', label = '1')\n",
    "        sns.distplot(data.iloc[: , col_num][df_final['label'] == 0], bins = np.arange(0, k, ), color = 'b', label = '0')\n",
    "        plt.xticks(np.arange(0, k, 1))\n",
    "        plt.title(list(data.columns)[col_num])\n",
    "        plt.legend()\n",
    "        plt.savefig(\"pictures/data_hist/\"+list(data.columns)[col_num])\n",
    "        plt.grid()\n",
    "        plt.show()\n",
    "        return\n",
    "    \n",
    "    @classmethod\n",
    "    def show_fuzzy_hist(cls, col_num, fuzzy_final, df_final):\n",
    "        plt.figure(figsize = (12, 6), dpi = 80)\n",
    "    #     plt.hist(df_final.iloc[: , col_num][df_final['label'] == 1], color='r',bins=bins_k, alpha = 0.6, label='1')\n",
    "    #     plt.hist(df_final.iloc[: , col_num][df_final['label'] == 0], color='b',bins=bins_k, alpha = 0.6, label='0')\n",
    "    #     plt.hist(df_final.iloc[: , col_num][df_final['label'] == 1], color='r',bins=bins_k, density=True, alpha = 0.6, label='1')\n",
    "    #     plt.hist(df_final.iloc[: , col_num][df_final['label'] == 0], color='b',bins=bins_k, density=True, alpha = 0.6, label='0')\n",
    "    #     df_final.iloc[: , col_num][df_final['label'] == 1].plot(kind='kde')\n",
    "    #     df_final.iloc[: , col_num][df_final['label'] == 0].plot(kind='kde')\n",
    "        sns.distplot(df_final.iloc[: , col_num][df_final['label'] == 1], color = 'red', label = '1')\n",
    "        sns.distplot(df_final.iloc[: , col_num][df_final['label'] == 0], color = 'blue', label = '0')\n",
    "        index=2\n",
    "        for i in range(len(fuzzy_final[col_num])//2):\n",
    "            plt.plot(fuzzy_final[col_num][index-2:index], list([.3,.3]), linewidth = 3, color = \"black\")\n",
    "            index+=2\n",
    "        plt.title(list(df_final.columns)[col_num])\n",
    "        plt.savefig(\"pictures/fuzzy_hist/\"+list(df_final.columns)[col_num])\n",
    "        plt.legend()\n",
    "        plt.grid()\n",
    "        plt.show()\n",
    "    \n",
    "    @classmethod\n",
    "    def show_corr(cls, data):\n",
    "        \n",
    "        plt.figure(figsize = (12, 8))\n",
    "        sns.heatmap(data.corr(), annot=True, cmap=plt.cm.rainbow, linewidths=0.2) #data.corr()-->correlation matrix\n",
    "        plt.savefig('pictures/data_corr_matrix')\n",
    "        plt.show()\n",
    "        return    "
   ]
  },
  {
   "cell_type": "markdown",
   "metadata": {},
   "source": [
    "### 数据预处理"
   ]
  },
  {
   "cell_type": "code",
   "execution_count": 4,
   "metadata": {},
   "outputs": [],
   "source": [
    "def get_fuzzy_list(bins_k, df_disper, df_retbins):\n",
    "    fuzzy_list = [[] for i in range(df_disper.shape[1])]\n",
    "    disper_cols = list(df_disper.columns)\n",
    "    for j in range(df_disper.shape[1]):\n",
    "        for i in range(bins_k):\n",
    "            total_0 = df_disper[disper_cols[j]][df_final['label'] == 0].count()\n",
    "            total_1 = df_disper[disper_cols[j]][df_final['label'] == 1].count()\n",
    "            element_0 = df_disper[disper_cols[j]][df_disper[disper_cols[j]] == i][df_final['label'] == 0].count()\n",
    "            element_1 = df_disper[disper_cols[j]][df_disper[disper_cols[j]] == i][df_final['label'] == 1].count()\n",
    "#             max_v = max(df_disper[disper_cols[j]][df_disper[disper_cols[j]] == i][df_final['label'] == 0].count(), df_disper[disper_cols[j]][df_disper[disper_cols[j]] == i][df_final['label'] == 1].count())\n",
    "#             min_v = min(df_disper[disper_cols[j]][df_disper[disper_cols[j]] == i][df_final['label'] == 0].count(), df_disper[disper_cols[j]][df_disper[disper_cols[j]] == i][df_final['label'] == 1].count())\n",
    "            max_v = max(element_0/total_0, element_1/total_1)\n",
    "            min_v = min(element_0/total_0, element_1/total_1)\n",
    "#         print(disper_cols[j]+'_'+str(i)+'_'+str(min_v/max_v))\n",
    "            if min_v/max_v >= 0.5:\n",
    "                try:\n",
    "    #                 fuzzy_list[j].append((df_retbins.iloc[i:i+1, j].values[0], df_retbins.iloc[i+1:i+2, j].values[0]))\n",
    "                    fuzzy_list[j].append(df_retbins.iloc[i:i+1, j].values[0])\n",
    "                    fuzzy_list[j].append(df_retbins.iloc[i+1:i+2, j].values[0])                   \n",
    "                except Exception as err:\n",
    "                    pass\n",
    "    return fuzzy_list              "
   ]
  },
  {
   "cell_type": "markdown",
   "metadata": {},
   "source": [
    "### 参数择优"
   ]
  },
  {
   "cell_type": "code",
   "execution_count": 5,
   "metadata": {},
   "outputs": [],
   "source": [
    "class ParamSelect:\n",
    "    \"\"\"\n",
    "    参数寻优类，输入模型及训练集数据，经过网格搜索及交缠验证后，返回最优模型参数\n",
    "    \"\"\"\n",
    "    \n",
    "    def __init__(self, train_x, train_y, clf = None):\n",
    "        # 训练集 train_x, train_y\n",
    "        assert train_x.shape[0] == train_y.shape[0], '特征集和标签长度不一致！'\n",
    "        self.train_x, self.train_y = train_x, train_y\n",
    "        # 模型\n",
    "        self.clf = clf\n",
    "        \n",
    "        \n",
    "    def get_best_param(self, param_grid: list) -> dict:\n",
    "        \"\"\"\n",
    "        :param param_grid: 代调优模型参数列表\n",
    "        :return: 最优的模型参数best_params_\n",
    "        \"\"\"\n",
    "        # 交叉验证参数择优  \n",
    "        kfold_gs = StratifiedKFold(n_splits=10, random_state=0)\n",
    "        # 网格搜索\n",
    "        grid_search = GridSearchCV(estimator=self.clf,\n",
    "                param_grid=param_grid,\n",
    "                scoring='f1_weighted',\n",
    "                cv=kfold_gs)\n",
    "#         scores = cross_val_score(grid_search,self.train_x, self.train_y,scoring='accuracy',cv=kfold_cv)\n",
    "#         print(\"CV average Accuracy in Train Phase: %.3f +/- %.3f\" % (np.mean(scores),np.std(scores)))\n",
    "        grid_result = grid_search.fit(self.train_x, self.train_y)\n",
    "        print(\"参数寻优：\\nBest score: %f using %s\" % (grid_result.best_score_, grid_search.best_params_))\n",
    "        return grid_search.best_params_\n"
   ]
  },
  {
   "cell_type": "markdown",
   "metadata": {},
   "source": [
    "### 模型评估"
   ]
  },
  {
   "cell_type": "code",
   "execution_count": 6,
   "metadata": {},
   "outputs": [],
   "source": [
    "class ModelEvaluation:\n",
    "    \"\"\"\n",
    "    模型评估类，对用最佳参数训练的模型，用10折交叉验证，混淆矩阵等方法对模型进行评估，判断模型的优劣。\n",
    "    \"\"\"\n",
    "    \n",
    "    def __init__(self, clf, test_x, test_y):\n",
    "        # 模型\n",
    "        self.clf = clf\n",
    "        # 总的特征数据\n",
    "        assert test_x.shape[0] == test_y.shape[0], '特征集和标签长度不一致！'\n",
    "        self.test_x = test_x\n",
    "        self.test_y = test_y\n",
    "\n",
    "    def kfold_cv(self) -> float:\n",
    "        \"\"\"\n",
    "        用在训练集上的最佳参数训练模型后，在测试集（test_x, test_y ： 对模型来说是全新的数据）上进行十折交叉验证，检验模型的好坏\n",
    "        :param:\n",
    "        :return: 10折交叉验证后返回f1_score_weighted\n",
    "        \"\"\"\n",
    "        kfold_cv  = StratifiedKFold(n_splits=10, random_state=0)\n",
    "        # 考虑类别的不平衡性，需要计算类别的加权平均，使用'f1_weighted'而不是f1\n",
    "        scores = cross_val_score(self.clf, self.test_x, self.test_y, scoring='f1_weighted', cv=kfold_cv)\n",
    "        print(\"交叉验证：\\n10fold cross validation f1_weighted score in final model: %.3f +/- %.3f\" % (np.mean(scores),np.std(scores)))\n",
    "        return np.mean(scores)\n",
    "    \n",
    "    @classmethod   \n",
    "    def get_f1_score(cls, test_y, pred_y) -> float:\n",
    "        \"\"\"\n",
    "        :param test_y, pred_y: 真实值和预测值\n",
    "        :return: 根据真实值和预测值计算f1_score\n",
    "        \"\"\"\n",
    "        assert test_y.shape[0] == pred_y.shape[0], '测试集和预测集长度不一致！'\n",
    "        f1_score_wei = f1_score(test_y, pred_y, average='weighted')      \n",
    "        return f1_score_wei\n",
    "    \n",
    "    @classmethod  \n",
    "    def show_learning_curve(cls, X, y, clf, title):\n",
    "        \"\"\"\n",
    "        绘制学习曲线：根据训练样本大小的变化，展示分类准确率的改变\n",
    "        :param clf: 待评估模型\n",
    "        :return:  \n",
    "        \"\"\"\n",
    "        assert X.shape[0] == y.shape[0]\n",
    "        print('Learning curve:')\n",
    "        plt.figure(figsize=(8, 6))\n",
    "        # 模型\n",
    "        clf = clf  \n",
    "        lw = 2\n",
    "        title = title\n",
    "        plt.title(title)\n",
    "        # 设置y轴坐标\n",
    "        plt.ylim((.3, 1.01))\n",
    "        plt.xlabel(\"Training samples\")\n",
    "        plt.ylabel(\"Score\")\n",
    "        # 获得绘图数据\n",
    "        cv = ShuffleSplit(n_splits=10, test_size=0.3, random_state=0)\n",
    "        train_sizes, train_scores, test_scores = learning_curve(\n",
    "            clf, X, y, cv=cv, train_sizes=np.linspace(0.1, 1, 10))\n",
    "        train_scores_mean = np.mean(train_scores, axis=1)\n",
    "        test_scores_mean = np.mean(test_scores, axis=1)\n",
    "\n",
    "        # 画图\n",
    "        plt.plot(train_sizes, train_scores_mean, 'o-', color=\"pink\", lw=lw,\n",
    "                 label=\"Training score\")\n",
    "        plt.plot(train_sizes, test_scores_mean, 'o-', color=\"lightgreen\", lw=lw,\n",
    "                 label=\"Cross-validation score\")\n",
    "        plt.grid()\n",
    "        plt.legend(loc=\"best\")\n",
    "        plt.savefig('pictures\\\\model_lc\\\\' + title)\n",
    "        plt.show()\n",
    "        return\n",
    "    \n",
    "    @classmethod\n",
    "    def show_confusion_matrix(cls, test_y, pred_y, model_name: str, classes = ['0','1'],  cmap=plt.cm.rainbow):\n",
    "        \"\"\"\n",
    "         根据真实值和预测值画出混淆矩阵\n",
    "        :param test_y, pred_y: 真实值和预测值\n",
    "        :param model_name: 模型名\n",
    "        :return: \n",
    "        \"\"\"\n",
    "        title = str(model_name) + '_confusion_matrix'\n",
    "        plt.rc('font',size='13')   # 设置字体大小\n",
    "        cm = confusion_matrix(test_y, pred_y)\n",
    "        print(\"confusion matrix:\\n\",cm)\n",
    "        # 按行进行归一化\n",
    "        cm = cm.astype('float') / cm.sum(axis=1)[:, np.newaxis]\n",
    "        # 占比1%以下的单元格，设为0，防止在最后的颜色中体现出来\n",
    "        for i in range(cm.shape[0]):\n",
    "            for j in range(cm.shape[1]):\n",
    "                if int(cm[i, j]*100 + 0.5) == 0:\n",
    "                    cm[i, j]=0\n",
    "\n",
    "        fig, ax = plt.subplots(figsize = (7, 5), dpi = 80)\n",
    "        im = ax.imshow(cm, interpolation='nearest', cmap=cmap)\n",
    "        ax.figure.colorbar(im, ax=ax) # 侧边的颜色条带\n",
    "\n",
    "        ax.set(xticks=np.arange(cm.shape[1]),\n",
    "               yticks=np.arange(cm.shape[0]),\n",
    "               xticklabels=classes, yticklabels=classes,\n",
    "               title=title,\n",
    "               ylabel='Actual',\n",
    "               xlabel='Predicted')\n",
    "\n",
    "        # 通过绘制格网，模拟每个单元格的边框\n",
    "        ax.set_xticks(np.arange(cm.shape[1]+1)-.5, minor=True)\n",
    "        ax.set_yticks(np.arange(cm.shape[0]+1)-.5, minor=True)\n",
    "        ax.grid(which=\"minor\", color=\"gray\", linestyle='-', linewidth=0.2)\n",
    "        ax.tick_params(which=\"minor\", bottom=False, left=False)\n",
    "\n",
    "        # 将x轴上的lables旋转45度\n",
    "        plt.setp(ax.get_xticklabels(), rotation=45, ha=\"right\",\n",
    "                 rotation_mode=\"anchor\")\n",
    "\n",
    "        # 标注百分比信息\n",
    "        fmt = 'd'\n",
    "        thresh = cm.max() / 2.\n",
    "        for i in range(cm.shape[0]):\n",
    "            for j in range(cm.shape[1]):\n",
    "                if int(cm[i, j]*100 + 0.5) > 0:\n",
    "                    ax.text(j, i, format(int(cm[i, j]*100 + 0.5) , fmt) + '%',\n",
    "                            ha=\"center\", va=\"center\",\n",
    "                            color=\"white\"  if cm[i, j] > thresh else \"black\")\n",
    "        fig.tight_layout()\n",
    "        plt.savefig('pictures\\\\model_cm\\\\' + title)\n",
    "        plt.show()\n",
    "        return \n",
    "        \n",
    "    @classmethod\n",
    "    def show_classification_report(cls, test_y, pred_y):\n",
    "        \"\"\"\n",
    "        根据真实值和预测值打印分类报告\n",
    "        :param test_y, pred_y: 真实值和预测值\n",
    "        :return: \n",
    "        \"\"\"\n",
    "        assert test_y.shape[0] == pred_y.shape[0], '测试集和预测集长度不一致！'\n",
    "        print(\"Detailed classification report:\")\n",
    "        print(classification_report(test_y, pred_y))\n",
    "        return \n",
    "        \n",
    "    @classmethod\n",
    "    def my_pipeline(cls, train_x, train_y, test_x, test_y, X, y, clf, model_name: str) -> float:\n",
    "        \"\"\"\n",
    "        自定义流水线方法，执行模型评估工作\n",
    "        :param clf: 分类模型\n",
    "        :param model_name: 模型名称\n",
    "        :return:\n",
    "        \"\"\"\n",
    "        # 在测试集（test_x, test_y）全新的数据上做十折交叉验证，评估验证模型\n",
    "        modelevaluation = ModelEvaluation(clf, test_x, test_y)\n",
    "        clf.fit(train_x,train_y)\n",
    "        pred_y = clf.predict(test_x)\n",
    "        cv_f1_score = modelevaluation.kfold_cv()\n",
    "        test_f1_score = ModelEvaluation.get_f1_score(test_y, pred_y)\n",
    "        print('cv-f1-score:', cv_f1_score)\n",
    "        print('test-f1-score:', test_f1_score)\n",
    "        ModelEvaluation.show_classification_report(test_y, pred_y)\n",
    "        ModelEvaluation.show_confusion_matrix(test_y, pred_y, model_name)\n",
    "#         ModelEvaluation.show_learning_curve(X, y, clf,  model_name)\n",
    "        \n",
    "        return cv_f1_score\n",
    "    \n",
    "    @classmethod\n",
    "    def show_roc_curve(cls, test_y, y_score, model_name):\n",
    "        \"\"\"\n",
    "        roc 曲线\n",
    "        \"\"\"\n",
    "        \n",
    "        \n",
    "        # Compute ROC curve and ROC area for each class\n",
    "        fpr,tpr,threshold = roc_curve(test_y, y_score) ###计算真正率和假正率\n",
    "        roc_auc = auc(fpr,tpr) # 计算auc的值 AUC的含义：ROC曲线下的面积（越大越好，1为理想状态）\n",
    "        plt.figure()\n",
    "        lw = 3\n",
    "        plt.figure(figsize=(8,6))\n",
    "        plt.plot(fpr, tpr, color='r',\n",
    "                 lw=lw, label='ROC curve (area = %0.2f)' % roc_auc) ###假正率为横坐标，真正率为纵坐标做曲线\n",
    "        plt.plot([0, 1], [0, 1], color='navy', lw=lw, linestyle='--')\n",
    "        plt.xlim([0.0, 1.0])\n",
    "        plt.ylim([0.0, 1.05])\n",
    "        plt.xlabel('False Positive Rate')\n",
    "        plt.ylabel('True Positive Rate')\n",
    "        plt.title(model_name + 'Receiver operating characteristic')\n",
    "        plt.legend(loc=\"lower right\")\n",
    "        plt.savefig('pictures\\\\model_roc\\\\' + model_name + '_Receiver operating characteristic')\n",
    "        plt.show()\n",
    "        return \n",
    "    @classmethod\n",
    "    def get_test_result(cls, clf, test_data, model_name):\n",
    "        return pd.DataFrame(clf.predict(test_data), columns = [model_name+'_pred_y'])"
   ]
  },
  {
   "cell_type": "markdown",
   "metadata": {},
   "source": [
    "## 问题分析及解答\n",
    "- 特征选择 选择出判断包含特殊成分的主要指标\n",
    "- PCA降维 特征选择完成后，可能由于特征矩阵过大，导致计算量大，训练时间长的问题，因此需要降低特征矩阵维度"
   ]
  },
  {
   "cell_type": "code",
   "execution_count": 7,
   "metadata": {},
   "outputs": [],
   "source": [
    "def show_model_status(model_name: str):\n",
    "    \"\"\"\n",
    "    打印当前训练模型\n",
    "    :param model_name: 模型名称\n",
    "    :return:\n",
    "    \"\"\"\n",
    "    assert isinstance(model_name, str), 'model_name必须为字符串类型！'\n",
    "    print('-'*100)\n",
    "    print(model_name, '模型训练及评估：')\n",
    "    return \n",
    "model_list = ['DecisionTree', 'Svm', 'Knn']\n",
    "# 用来记录每个模型10折交叉验证f1分数的DataFrame\n",
    "df_score = pd.DataFrame(columns = ['cv_f1_score', 'accuracy'])\n",
    "# 记录测试数据前10条预测值\n",
    "df_pred = pd.DataFrame()"
   ]
  },
  {
   "cell_type": "markdown",
   "metadata": {},
   "source": [
    "### 获取数据"
   ]
  },
  {
   "cell_type": "code",
   "execution_count": 8,
   "metadata": {},
   "outputs": [],
   "source": [
    "get_data = GetData()\n",
    "df_final = get_data.train_data\n",
    "df_test = get_data.test_data"
   ]
  },
  {
   "cell_type": "code",
   "execution_count": 9,
   "metadata": {},
   "outputs": [
    {
     "data": {
      "text/html": [
       "<div>\n",
       "<style scoped>\n",
       "    .dataframe tbody tr th:only-of-type {\n",
       "        vertical-align: middle;\n",
       "    }\n",
       "\n",
       "    .dataframe tbody tr th {\n",
       "        vertical-align: top;\n",
       "    }\n",
       "\n",
       "    .dataframe thead th {\n",
       "        text-align: right;\n",
       "    }\n",
       "</style>\n",
       "<table border=\"1\" class=\"dataframe\">\n",
       "  <thead>\n",
       "    <tr style=\"text-align: right;\">\n",
       "      <th></th>\n",
       "      <th>V1</th>\n",
       "      <th>V2</th>\n",
       "      <th>V3</th>\n",
       "      <th>V4</th>\n",
       "      <th>V5</th>\n",
       "      <th>V6</th>\n",
       "      <th>V7</th>\n",
       "      <th>label</th>\n",
       "    </tr>\n",
       "  </thead>\n",
       "  <tbody>\n",
       "    <tr>\n",
       "      <th>0</th>\n",
       "      <td>0.535424</td>\n",
       "      <td>0.910960</td>\n",
       "      <td>0.524026</td>\n",
       "      <td>0.992520</td>\n",
       "      <td>0.837432</td>\n",
       "      <td>0.895676</td>\n",
       "      <td>0.632646</td>\n",
       "      <td>1</td>\n",
       "    </tr>\n",
       "    <tr>\n",
       "      <th>1</th>\n",
       "      <td>0.431184</td>\n",
       "      <td>0.763346</td>\n",
       "      <td>0.350371</td>\n",
       "      <td>0.885103</td>\n",
       "      <td>0.532782</td>\n",
       "      <td>0.926587</td>\n",
       "      <td>0.621668</td>\n",
       "      <td>1</td>\n",
       "    </tr>\n",
       "    <tr>\n",
       "      <th>2</th>\n",
       "      <td>0.857351</td>\n",
       "      <td>0.963743</td>\n",
       "      <td>0.723323</td>\n",
       "      <td>0.997718</td>\n",
       "      <td>0.850043</td>\n",
       "      <td>0.732553</td>\n",
       "      <td>0.437323</td>\n",
       "      <td>1</td>\n",
       "    </tr>\n",
       "    <tr>\n",
       "      <th>3</th>\n",
       "      <td>0.013346</td>\n",
       "      <td>0.098378</td>\n",
       "      <td>0.008714</td>\n",
       "      <td>0.781759</td>\n",
       "      <td>0.414321</td>\n",
       "      <td>0.817683</td>\n",
       "      <td>0.410796</td>\n",
       "      <td>0</td>\n",
       "    </tr>\n",
       "    <tr>\n",
       "      <th>4</th>\n",
       "      <td>-0.005583</td>\n",
       "      <td>0.056952</td>\n",
       "      <td>-0.016080</td>\n",
       "      <td>0.628570</td>\n",
       "      <td>0.401985</td>\n",
       "      <td>0.704188</td>\n",
       "      <td>0.400392</td>\n",
       "      <td>0</td>\n",
       "    </tr>\n",
       "  </tbody>\n",
       "</table>\n",
       "</div>"
      ],
      "text/plain": [
       "         V1        V2        V3        V4        V5        V6        V7  label\n",
       "0  0.535424  0.910960  0.524026  0.992520  0.837432  0.895676  0.632646      1\n",
       "1  0.431184  0.763346  0.350371  0.885103  0.532782  0.926587  0.621668      1\n",
       "2  0.857351  0.963743  0.723323  0.997718  0.850043  0.732553  0.437323      1\n",
       "3  0.013346  0.098378  0.008714  0.781759  0.414321  0.817683  0.410796      0\n",
       "4 -0.005583  0.056952 -0.016080  0.628570  0.401985  0.704188  0.400392      0"
      ]
     },
     "execution_count": 9,
     "metadata": {},
     "output_type": "execute_result"
    }
   ],
   "source": [
    "df_final.head()"
   ]
  },
  {
   "cell_type": "code",
   "execution_count": 10,
   "metadata": {},
   "outputs": [
    {
     "data": {
      "text/html": [
       "<div>\n",
       "<style scoped>\n",
       "    .dataframe tbody tr th:only-of-type {\n",
       "        vertical-align: middle;\n",
       "    }\n",
       "\n",
       "    .dataframe tbody tr th {\n",
       "        vertical-align: top;\n",
       "    }\n",
       "\n",
       "    .dataframe thead th {\n",
       "        text-align: right;\n",
       "    }\n",
       "</style>\n",
       "<table border=\"1\" class=\"dataframe\">\n",
       "  <thead>\n",
       "    <tr style=\"text-align: right;\">\n",
       "      <th></th>\n",
       "      <th>V1</th>\n",
       "      <th>V2</th>\n",
       "      <th>V3</th>\n",
       "      <th>V4</th>\n",
       "      <th>V5</th>\n",
       "      <th>V6</th>\n",
       "      <th>V7</th>\n",
       "      <th>label</th>\n",
       "    </tr>\n",
       "  </thead>\n",
       "  <tbody>\n",
       "    <tr>\n",
       "      <th>count</th>\n",
       "      <td>20000.000000</td>\n",
       "      <td>20000.000000</td>\n",
       "      <td>20000.000000</td>\n",
       "      <td>20000.000000</td>\n",
       "      <td>20000.000000</td>\n",
       "      <td>20000.000000</td>\n",
       "      <td>20000.000000</td>\n",
       "      <td>20000.000000</td>\n",
       "    </tr>\n",
       "    <tr>\n",
       "      <th>mean</th>\n",
       "      <td>0.379799</td>\n",
       "      <td>0.581811</td>\n",
       "      <td>0.317147</td>\n",
       "      <td>0.881700</td>\n",
       "      <td>0.590638</td>\n",
       "      <td>0.804141</td>\n",
       "      <td>0.449740</td>\n",
       "      <td>0.694750</td>\n",
       "    </tr>\n",
       "    <tr>\n",
       "      <th>std</th>\n",
       "      <td>0.313877</td>\n",
       "      <td>0.331197</td>\n",
       "      <td>0.291529</td>\n",
       "      <td>0.131421</td>\n",
       "      <td>0.210565</td>\n",
       "      <td>0.126345</td>\n",
       "      <td>0.123931</td>\n",
       "      <td>0.460525</td>\n",
       "    </tr>\n",
       "    <tr>\n",
       "      <th>min</th>\n",
       "      <td>-0.752723</td>\n",
       "      <td>-0.062687</td>\n",
       "      <td>-1.261943</td>\n",
       "      <td>0.320840</td>\n",
       "      <td>0.134443</td>\n",
       "      <td>0.183343</td>\n",
       "      <td>0.118308</td>\n",
       "      <td>0.000000</td>\n",
       "    </tr>\n",
       "    <tr>\n",
       "      <th>25%</th>\n",
       "      <td>0.016551</td>\n",
       "      <td>0.220954</td>\n",
       "      <td>0.013827</td>\n",
       "      <td>0.800967</td>\n",
       "      <td>0.405840</td>\n",
       "      <td>0.721750</td>\n",
       "      <td>0.355693</td>\n",
       "      <td>0.000000</td>\n",
       "    </tr>\n",
       "    <tr>\n",
       "      <th>50%</th>\n",
       "      <td>0.468211</td>\n",
       "      <td>0.735289</td>\n",
       "      <td>0.347197</td>\n",
       "      <td>0.943091</td>\n",
       "      <td>0.564188</td>\n",
       "      <td>0.823860</td>\n",
       "      <td>0.434033</td>\n",
       "      <td>1.000000</td>\n",
       "    </tr>\n",
       "    <tr>\n",
       "      <th>75%</th>\n",
       "      <td>0.639390</td>\n",
       "      <td>0.868181</td>\n",
       "      <td>0.568549</td>\n",
       "      <td>0.987442</td>\n",
       "      <td>0.783371</td>\n",
       "      <td>0.908167</td>\n",
       "      <td>0.533794</td>\n",
       "      <td>1.000000</td>\n",
       "    </tr>\n",
       "    <tr>\n",
       "      <th>max</th>\n",
       "      <td>0.965002</td>\n",
       "      <td>0.985052</td>\n",
       "      <td>0.920936</td>\n",
       "      <td>0.999775</td>\n",
       "      <td>0.994328</td>\n",
       "      <td>0.999482</td>\n",
       "      <td>0.847895</td>\n",
       "      <td>1.000000</td>\n",
       "    </tr>\n",
       "  </tbody>\n",
       "</table>\n",
       "</div>"
      ],
      "text/plain": [
       "                 V1            V2            V3            V4            V5  \\\n",
       "count  20000.000000  20000.000000  20000.000000  20000.000000  20000.000000   \n",
       "mean       0.379799      0.581811      0.317147      0.881700      0.590638   \n",
       "std        0.313877      0.331197      0.291529      0.131421      0.210565   \n",
       "min       -0.752723     -0.062687     -1.261943      0.320840      0.134443   \n",
       "25%        0.016551      0.220954      0.013827      0.800967      0.405840   \n",
       "50%        0.468211      0.735289      0.347197      0.943091      0.564188   \n",
       "75%        0.639390      0.868181      0.568549      0.987442      0.783371   \n",
       "max        0.965002      0.985052      0.920936      0.999775      0.994328   \n",
       "\n",
       "                 V6            V7         label  \n",
       "count  20000.000000  20000.000000  20000.000000  \n",
       "mean       0.804141      0.449740      0.694750  \n",
       "std        0.126345      0.123931      0.460525  \n",
       "min        0.183343      0.118308      0.000000  \n",
       "25%        0.721750      0.355693      0.000000  \n",
       "50%        0.823860      0.434033      1.000000  \n",
       "75%        0.908167      0.533794      1.000000  \n",
       "max        0.999482      0.847895      1.000000  "
      ]
     },
     "execution_count": 10,
     "metadata": {},
     "output_type": "execute_result"
    }
   ],
   "source": [
    "df_final.describe()"
   ]
  },
  {
   "cell_type": "markdown",
   "metadata": {},
   "source": [
    "### 数据可视化"
   ]
  },
  {
   "cell_type": "markdown",
   "metadata": {},
   "source": [
    "#### 箱型图观察离散值"
   ]
  },
  {
   "cell_type": "code",
   "execution_count": 11,
   "metadata": {},
   "outputs": [],
   "source": [
    "from sklearn.datasets import load_digits"
   ]
  },
  {
   "cell_type": "code",
   "execution_count": 12,
   "metadata": {},
   "outputs": [
    {
     "data": {
      "text/plain": [
       "array([[ 0.,  0.,  5., 13.,  9.,  1.,  0.,  0.],\n",
       "       [ 0.,  0., 13., 15., 10., 15.,  5.,  0.],\n",
       "       [ 0.,  3., 15.,  2.,  0., 11.,  8.,  0.],\n",
       "       [ 0.,  4., 12.,  0.,  0.,  8.,  8.,  0.],\n",
       "       [ 0.,  5.,  8.,  0.,  0.,  9.,  8.,  0.],\n",
       "       [ 0.,  4., 11.,  0.,  1., 12.,  7.,  0.],\n",
       "       [ 0.,  2., 14.,  5., 10., 12.,  0.,  0.],\n",
       "       [ 0.,  0.,  6., 13., 10.,  0.,  0.,  0.]])"
      ]
     },
     "execution_count": 12,
     "metadata": {},
     "output_type": "execute_result"
    }
   ],
   "source": [
    "digits = load_digits()\n",
    "digits.images[0]"
   ]
  },
  {
   "cell_type": "code",
   "execution_count": 59,
   "metadata": {},
   "outputs": [],
   "source": [
    "%matplotlib inline"
   ]
  },
  {
   "cell_type": "code",
   "execution_count": 65,
   "metadata": {},
   "outputs": [
    {
     "data": {
      "image/png": "[encoded data removed]",
      "text/plain": [
       "<Figure size 2000x200 with 20 Axes>"
      ]
     },
     "metadata": {
      "needs_background": "light"
     },
     "output_type": "display_data"
    }
   ],
   "source": [
    "fig,axes = plt.subplots(1,10, figsize=(20,2),dpi=100)\n",
    "# fig = plt.figure()\n",
    "for i in range(10):\n",
    "#     plt.figure(figsize=(6,4),dpi=80)\n",
    "    ax = axes[i]\n",
    "#     plt.figure(figsize=(12,8))\n",
    "#     fig.add_subplot(10,1,i+1)\n",
    "    sns.heatmap(digits.images[i], cmap=plt.cm.BuPu, ax=ax)  \n",
    "    \n",
    "plt.show()"
   ]
  },
  {
   "cell_type": "code",
   "execution_count": 61,
   "metadata": {},
   "outputs": [
    {
     "data": {
      "image/png": "[encoded data removed]",
      "text/plain": [
       "<Figure size 864x576 with 1 Axes>"
      ]
     },
     "metadata": {
      "needs_background": "light"
     },
     "output_type": "display_data"
    }
   ],
   "source": [
    "df_final.plot(kind='box', figsize=(12,8), colormap = plt.cm.RdYlBu_r)\n",
    "plt.yticks(np.linspace(-1,1,20))\n",
    "plt.grid()\n",
    "plt.show()"
   ]
  },
  {
   "cell_type": "code",
   "execution_count": 62,
   "metadata": {},
   "outputs": [
    {
     "data": {
      "image/png": "[encoded data removed]",
      "text/plain": [
       "<Figure size 864x576 with 1 Axes>"
      ]
     },
     "metadata": {
      "needs_background": "light"
     },
     "output_type": "display_data"
    },
    {
     "data": {
      "image/png": "[encoded data removed]",
      "text/plain": [
       "<Figure size 864x576 with 1 Axes>"
      ]
     },
     "metadata": {
      "needs_background": "light"
     },
     "output_type": "display_data"
    },
    {
     "data": {
      "image/png": "[encoded data removed]",
      "text/plain": [
       "<Figure size 864x576 with 1 Axes>"
      ]
     },
     "metadata": {
      "needs_background": "light"
     },
     "output_type": "display_data"
    },
    {
     "data": {
      "image/png": "[encoded data removed]",
      "text/plain": [
       "<Figure size 864x576 with 1 Axes>"
      ]
     },
     "metadata": {
      "needs_background": "light"
     },
     "output_type": "display_data"
    },
    {
     "data": {
      "image/png": "[encoded data removed]",
      "text/plain": [
       "<Figure size 864x576 with 1 Axes>"
      ]
     },
     "metadata": {
      "needs_background": "light"
     },
     "output_type": "display_data"
    },
    {
     "data": {
      "image/png": "[encoded data removed]",
      "text/plain": [
       "<Figure size 864x576 with 1 Axes>"
      ]
     },
     "metadata": {
      "needs_background": "light"
     },
     "output_type": "display_data"
    },
    {
     "data": {
      "image/png": "[encoded data removed]",
      "text/plain": [
       "<Figure size 864x576 with 1 Axes>"
      ]
     },
     "metadata": {
      "needs_background": "light"
     },
     "output_type": "display_data"
    }
   ],
   "source": [
    "for i in range(7):\n",
    "    plt.figure(figsize = (12, 8))\n",
    "    sns.boxplot(x='label', y=df_final.iloc[:, i] , data = df_final, hue = 'label', color='lightgreen')\n",
    "    plt.show()"
   ]
  },
  {
   "cell_type": "markdown",
   "metadata": {},
   "source": [
    "#### 数据分布"
   ]
  },
  {
   "cell_type": "code",
   "execution_count": 63,
   "metadata": {},
   "outputs": [
    {
     "data": {
      "image/png": "[encoded data removed]",
      "text/plain": [
       "<Figure size 864x576 with 1 Axes>"
      ]
     },
     "metadata": {
      "needs_background": "light"
     },
     "output_type": "display_data"
    },
    {
     "data": {
      "image/png": "[encoded data removed]",
      "text/plain": [
       "<Figure size 864x576 with 1 Axes>"
      ]
     },
     "metadata": {
      "needs_background": "light"
     },
     "output_type": "display_data"
    },
    {
     "data": {
      "image/png": "[encoded data removed]",
      "text/plain": [
       "<Figure size 864x576 with 1 Axes>"
      ]
     },
     "metadata": {
      "needs_background": "light"
     },
     "output_type": "display_data"
    },
    {
     "data": {
      "image/png": "[encoded data removed]",
      "text/plain": [
       "<Figure size 864x576 with 1 Axes>"
      ]
     },
     "metadata": {
      "needs_background": "light"
     },
     "output_type": "display_data"
    },
    {
     "data": {
      "image/png": "[encoded data removed]",
      "text/plain": [
       "<Figure size 864x576 with 1 Axes>"
      ]
     },
     "metadata": {
      "needs_background": "light"
     },
     "output_type": "display_data"
    },
    {
     "data": {
      "image/png": "[encoded data removed]",
      "text/plain": [
       "<Figure size 864x576 with 1 Axes>"
      ]
     },
     "metadata": {
      "needs_background": "light"
     },
     "output_type": "display_data"
    },
    {
     "data": {
      "image/png": "[encoded data removed]",
      "text/plain": [
       "<Figure size 864x576 with 1 Axes>"
      ]
     },
     "metadata": {
      "needs_background": "light"
     },
     "output_type": "display_data"
    }
   ],
   "source": [
    "for i in range(7):\n",
    "    plt.figure(figsize = (12, 8))\n",
    "    sns.violinplot(x='label', y=df_final.iloc[:, i] , data = df_final, hue = 'label', color='black')\n",
    "    plt.grid()\n",
    "    plt.show()"
   ]
  },
  {
   "cell_type": "markdown",
   "metadata": {},
   "source": [
    "## 题目一 主要指标判定"
   ]
  },
  {
   "cell_type": "markdown",
   "metadata": {},
   "source": [
    "#### 查看特征相关性"
   ]
  },
  {
   "cell_type": "code",
   "execution_count": null,
   "metadata": {},
   "outputs": [],
   "source": [
    "Visualization.show_pairplot(df_final)\n",
    "# 由于数据较大 此图不能明确看出特征之间的相关关系，但单个特征自身的分布特点可以较清晰的看到。"
   ]
  },
  {
   "cell_type": "markdown",
   "metadata": {},
   "source": [
    "#### 相关系数矩阵"
   ]
  },
  {
   "cell_type": "code",
   "execution_count": null,
   "metadata": {},
   "outputs": [],
   "source": [
    "# 通过相关系数矩阵（各个指标与标签0/1的相关程度），判断出可以判定特定成分存在的主要指标；\n",
    "df_final.corr()[df_final.corr()['label'] > 0.5].index"
   ]
  },
  {
   "cell_type": "code",
   "execution_count": null,
   "metadata": {},
   "outputs": [],
   "source": [
    "Visualization.show_corr(df_final)"
   ]
  },
  {
   "cell_type": "markdown",
   "metadata": {},
   "source": [
    "#### 特征选择\n",
    "- 判定特定成分存在的主要指标；"
   ]
  },
  {
   "cell_type": "code",
   "execution_count": null,
   "metadata": {},
   "outputs": [],
   "source": [
    "X_test = df_final.iloc[:, :-1]\n",
    "y_test = df_final.iloc[:, -1:]"
   ]
  },
  {
   "cell_type": "markdown",
   "metadata": {},
   "source": [
    "**移除低方差特征**\n",
    "- VarianceThreshold 是特征选择的一个简单基本方法，它会移除所有那些方差不满足一些阈值的特征。默认情况下，它将会移除所有的零方差特征，即那些在所有的样本上的取值均不变的特征。"
   ]
  },
  {
   "cell_type": "code",
   "execution_count": null,
   "metadata": {},
   "outputs": [],
   "source": [
    "vt = VarianceThreshold(0.017)\n",
    "vt.fit(X_test)\n",
    "vt.transform(X_test)"
   ]
  },
  {
   "cell_type": "code",
   "execution_count": null,
   "metadata": {},
   "outputs": [],
   "source": [
    "var = np.var(X_test)\n",
    "order = np.argsort(var)[::-1]\n",
    "var[order]"
   ]
  },
  {
   "cell_type": "code",
   "execution_count": null,
   "metadata": {},
   "outputs": [],
   "source": [
    "vt.transform(X_test)==np.array(df_final.iloc[:,:5]) "
   ]
  },
  {
   "cell_type": "markdown",
   "metadata": {},
   "source": [
    "**单变量特征选择**\n",
    "- 单变量的特征选择是通过基于单变量的统计测试来选择最好的特征。它可以当做是评估器的预处理步骤。Scikit-learn 将特征选择的内容作为实现了 transform 方法的对象：\n",
    "- SelectKBest 移除那些除了评分最高的 K 个特征之外的所有特征"
   ]
  },
  {
   "cell_type": "code",
   "execution_count": null,
   "metadata": {},
   "outputs": [],
   "source": [
    "sk = SelectKBest(k = 5)\n",
    "sk.fit(X_test, y_test)\n",
    "sk.transform(X_test) "
   ]
  },
  {
   "cell_type": "code",
   "execution_count": null,
   "metadata": {},
   "outputs": [],
   "source": [
    "sk.transform(X_test)==np.array(df_final.iloc[:,:5]) "
   ]
  },
  {
   "cell_type": "markdown",
   "metadata": {},
   "source": [
    "**递归式特征消除**\n",
    "- 给定一个外部的估计器，可以对特征赋予一定的权重（比如，线性模型的相关系数），recursive feature elimination ( RFE ) 通过考虑越来越小的特征集合来递归的选择特征。 首先，评估器在初始的特征集合上面训练并且每一个特征的重要程度是通过一个 coef_ 属性 或者 feature_importances_ 属性来获得。 然后，从当前的特征集合中移除最不重要的特征。在特征集合上不断的重复递归这个步骤，直到最终达到所需要的特征数量为止。"
   ]
  },
  {
   "cell_type": "code",
   "execution_count": null,
   "metadata": {},
   "outputs": [],
   "source": [
    "svc = svm.SVC(kernel=\"linear\", C=1)\n",
    "rfe = RFE(estimator=svc, n_features_to_select=5, step=1)\n",
    "rfe.fit(X_test, y_test)\n",
    "rfe.transform(X_test)[:5,:]"
   ]
  },
  {
   "cell_type": "code",
   "execution_count": null,
   "metadata": {},
   "outputs": [],
   "source": [
    "rfe.transform(X_test)[:,:]==np.array(df_final.iloc[:,:5]) "
   ]
  },
  {
   "cell_type": "markdown",
   "metadata": {},
   "source": [
    "**基于 Tree（树）的特征选取**\n",
    "- 基于树的 estimators （查阅 sklearn.tree 模块和树的森林 在 sklearn.ensemble 模块） 可以用来计算特征的重要性，然后可以消除不相关的特征（当与 sklearn.feature_selection.SelectFromModel 等元转换器一同使用时）"
   ]
  },
  {
   "cell_type": "code",
   "execution_count": null,
   "metadata": {},
   "outputs": [],
   "source": [
    "clf = ExtraTreesClassifier(random_state=60)\n",
    "clf = clf.fit(X_test, y_test)\n",
    "importfeature = pd.DataFrame(clf.feature_importances_, index = list('1234567'), columns = ['V'])  "
   ]
  },
  {
   "cell_type": "code",
   "execution_count": null,
   "metadata": {},
   "outputs": [],
   "source": [
    "importfeature.sort_values(by='V', ascending = False)\n",
    "model = SelectFromModel(clf, prefit=True, threshold=0.1)\n",
    "model.transform(X_test) == np.array(df_final.iloc[:,:5]) "
   ]
  },
  {
   "cell_type": "code",
   "execution_count": null,
   "metadata": {},
   "outputs": [],
   "source": [
    "model.transform(X_test)"
   ]
  },
  {
   "cell_type": "markdown",
   "metadata": {},
   "source": [
    "## 题目二 模糊区域"
   ]
  },
  {
   "cell_type": "markdown",
   "metadata": {},
   "source": [
    "#### 直方图"
   ]
  },
  {
   "cell_type": "code",
   "execution_count": null,
   "metadata": {},
   "outputs": [],
   "source": [
    "list(df_final.columns)[:-1]"
   ]
  },
  {
   "cell_type": "code",
   "execution_count": null,
   "metadata": {},
   "outputs": [],
   "source": [
    "Visualization.show_hist(df_final, 0)"
   ]
  },
  {
   "cell_type": "code",
   "execution_count": null,
   "metadata": {},
   "outputs": [],
   "source": [
    "Visualization.show_hist(df_final, 1)"
   ]
  },
  {
   "cell_type": "code",
   "execution_count": null,
   "metadata": {},
   "outputs": [],
   "source": [
    "Visualization.show_hist(df_final,2)"
   ]
  },
  {
   "cell_type": "code",
   "execution_count": null,
   "metadata": {},
   "outputs": [],
   "source": [
    "Visualization.show_hist(df_final, 3)"
   ]
  },
  {
   "cell_type": "code",
   "execution_count": null,
   "metadata": {},
   "outputs": [],
   "source": [
    "Visualization.show_hist(df_final, 4)"
   ]
  },
  {
   "cell_type": "code",
   "execution_count": null,
   "metadata": {},
   "outputs": [],
   "source": [
    "Visualization.show_hist(df_final, 5)"
   ]
  },
  {
   "cell_type": "code",
   "execution_count": null,
   "metadata": {},
   "outputs": [],
   "source": [
    "Visualization.show_hist(df_final, 6)"
   ]
  },
  {
   "cell_type": "markdown",
   "metadata": {},
   "source": [
    "#### 连续值离散化"
   ]
  },
  {
   "cell_type": "code",
   "execution_count": null,
   "metadata": {},
   "outputs": [],
   "source": [
    "bins_k = 59"
   ]
  },
  {
   "cell_type": "code",
   "execution_count": null,
   "metadata": {},
   "outputs": [],
   "source": [
    "df_disper = pd.DataFrame()\n",
    "df_retbins = pd.DataFrame()"
   ]
  },
  {
   "cell_type": "code",
   "execution_count": null,
   "metadata": {},
   "outputs": [],
   "source": [
    "# 离散化\n",
    "for i in range(df_final.shape[1]-1):\n",
    "    df_disper[list(df_final.columns)[i]+'_disper'] = pd.cut(df_final.iloc[:, i], bins_k, labels=range(bins_k), retbins=True)[0]\n",
    "    df_retbins[list(df_final.columns)[i]+'_bins'] = pd.cut(df_final.iloc[:, i], bins_k, labels=range(bins_k), retbins=True)[1]"
   ]
  },
  {
   "cell_type": "code",
   "execution_count": null,
   "metadata": {},
   "outputs": [],
   "source": [
    "df_disper.head()"
   ]
  },
  {
   "cell_type": "code",
   "execution_count": null,
   "metadata": {},
   "outputs": [],
   "source": [
    "df_retbins.head()"
   ]
  },
  {
   "cell_type": "code",
   "execution_count": null,
   "metadata": {},
   "outputs": [],
   "source": [
    "[Visualization.show_disper_hist(df_disper, i, bins_k) for i in range(df_disper.shape[1])]"
   ]
  },
  {
   "cell_type": "code",
   "execution_count": null,
   "metadata": {},
   "outputs": [],
   "source": [
    "# 获得模糊区域边界列表\n",
    "fuzzy_list = get_fuzzy_list(bins_k, df_disper, df_retbins)"
   ]
  },
  {
   "cell_type": "code",
   "execution_count": null,
   "metadata": {},
   "outputs": [],
   "source": [
    "fuzzy_final = [[] for i in range(df_disper.shape[1])]\n",
    "for i in range(7):\n",
    "    for k, v in Counter(fuzzy_list[i]).items():\n",
    "        if v==1:\n",
    "            fuzzy_final[i].append(k)"
   ]
  },
  {
   "cell_type": "code",
   "execution_count": null,
   "metadata": {},
   "outputs": [],
   "source": [
    "# fuzzy_final"
   ]
  },
  {
   "cell_type": "code",
   "execution_count": null,
   "metadata": {},
   "outputs": [],
   "source": [
    "Visualization.show_fuzzy_hist(0, fuzzy_final, df_final)"
   ]
  },
  {
   "cell_type": "code",
   "execution_count": null,
   "metadata": {},
   "outputs": [],
   "source": [
    "Visualization.show_fuzzy_hist(1, fuzzy_final, df_final)"
   ]
  },
  {
   "cell_type": "code",
   "execution_count": null,
   "metadata": {},
   "outputs": [],
   "source": [
    "Visualization.show_fuzzy_hist(2, fuzzy_final, df_final)"
   ]
  },
  {
   "cell_type": "code",
   "execution_count": null,
   "metadata": {},
   "outputs": [],
   "source": [
    "Visualization.show_fuzzy_hist(3, fuzzy_final, df_final)"
   ]
  },
  {
   "cell_type": "code",
   "execution_count": null,
   "metadata": {},
   "outputs": [],
   "source": [
    "Visualization.show_fuzzy_hist(4, fuzzy_final, df_final)"
   ]
  },
  {
   "cell_type": "code",
   "execution_count": null,
   "metadata": {},
   "outputs": [],
   "source": [
    "Visualization.show_fuzzy_hist(5, fuzzy_final, df_final)"
   ]
  },
  {
   "cell_type": "code",
   "execution_count": null,
   "metadata": {},
   "outputs": [],
   "source": [
    "Visualization.show_fuzzy_hist(6, fuzzy_final, df_final)"
   ]
  },
  {
   "cell_type": "markdown",
   "metadata": {},
   "source": [
    "## 题目三 训练模型预测前10条测试数据"
   ]
  },
  {
   "cell_type": "markdown",
   "metadata": {},
   "source": [
    "### 数据预处理"
   ]
  },
  {
   "cell_type": "markdown",
   "metadata": {},
   "source": [
    "#### PCA 降维"
   ]
  },
  {
   "cell_type": "code",
   "execution_count": null,
   "metadata": {},
   "outputs": [],
   "source": [
    "pca = PCA(5)\n",
    "pca.fit(df_final.iloc[:, :-1])\n",
    "X_new = pca.transform(df_final.iloc[:, :-1])\n",
    "df_test_dec = pca.transform(df_test)\n",
    "df_new = pd.concat([pd.DataFrame(X_new), df_final.iloc[:, -1:]], axis=1)\n",
    "df_new.head()\n",
    "# pca.show_ew()"
   ]
  },
  {
   "cell_type": "code",
   "execution_count": null,
   "metadata": {},
   "outputs": [],
   "source": [
    "pca.explained_variance_ratio_.sum()"
   ]
  },
  {
   "cell_type": "code",
   "execution_count": null,
   "metadata": {},
   "outputs": [],
   "source": [
    "pca.score_samples(X_test)"
   ]
  },
  {
   "cell_type": "code",
   "execution_count": null,
   "metadata": {},
   "outputs": [],
   "source": [
    "# scatter\n",
    "plt.figure(figsize = (12, 8))\n",
    "sc = plt.scatter(df_new.iloc[:, 0], df_new.iloc[:, 1], c=df_final.label, cmap = plt.cm.rainbow_r, alpha = 0.4)\n",
    "plt.xlabel('PC 0')\n",
    "plt.ylabel('PC 1')\n",
    "plt.colorbar(sc)\n",
    "plt.show()\n",
    "# V 第一列 对应 PC 0 前面的 系数   第二列 对应 PC 1 前面的系数"
   ]
  },
  {
   "cell_type": "markdown",
   "metadata": {},
   "source": [
    "#### 数据集划分"
   ]
  },
  {
   "cell_type": "code",
   "execution_count": null,
   "metadata": {},
   "outputs": [],
   "source": [
    "X, y = df_new.iloc[:, :-1], df_new.iloc[:, -1:]  # 除标签列之外的特征\n",
    "\n",
    "print('总特征集X大小：{}, 总标签y大小：{}'.format(X.shape, y.shape))\n",
    "\n",
    "# 数据集划分\n",
    "train_x, test_x, train_y, test_y = train_test_split(X, y, test_size=0.4, random_state=0, stratify=y)\n",
    "# 标准化 / 归一化\n",
    "# mms = MinMaxScaler()\n",
    "# mms.fit(X)\n",
    "# train_x = mms.transform(train_x)\n",
    "# test_x = mms.transform(test_x)\n",
    "# X = mms.transform(X)\n",
    "\n",
    "\n",
    "# sc = StandardScaler()\n",
    "# sc.fit(X)\n",
    "# train_x_std = sc.transform(train_x)\n",
    "# test_x_std = sc.transform(test_x)\n",
    "# df_test_std = sc.transform(df_test.iloc[:, :3])\n",
    "# X_std = sc.transform(X)\n",
    "\n",
    "print('train_x：{}, train_y:{}, test_x:{}, test_y: {} '.format(train_x.shape, train_y.shape, test_x.shape,\n",
    "                                                              test_y.shape))\n",
    "# print('总测试集：', test_final.shape)"
   ]
  },
  {
   "cell_type": "markdown",
   "metadata": {},
   "source": [
    "### 模型训练"
   ]
  },
  {
   "cell_type": "markdown",
   "metadata": {},
   "source": [
    "#### DecisionTree"
   ]
  },
  {
   "cell_type": "code",
   "execution_count": null,
   "metadata": {},
   "outputs": [],
   "source": [
    "show_model_status(model_list[0])\n",
    "# 参数寻优\n",
    "param_grid_tree = [{'random_state':[0],'criterion':['gini','entropy'], 'max_depth':list(range(2,10,2)),'max_leaf_nodes':list(range(8,40,5))}]\n",
    "paramselect = ParamSelect(train_x, train_y, DecisionTreeClassifier())\n",
    "best_param_tree = paramselect.get_best_param(param_grid_tree)"
   ]
  },
  {
   "cell_type": "code",
   "execution_count": null,
   "metadata": {},
   "outputs": [],
   "source": [
    "# 用最优参数训练模型\n",
    "clf = DecisionTreeClassifier(**best_param_tree)\n",
    "df_score.loc[model_list[0], 'cv_f1_score'], df_score.loc[model_list[0], 'accuracy']= ModelEvaluation.my_pipeline(train_x, train_y, test_x, test_y, X, y, clf, model_list[0]), clf.score(test_x, test_y)"
   ]
  },
  {
   "cell_type": "code",
   "execution_count": null,
   "metadata": {},
   "outputs": [],
   "source": [
    "# roc 曲线\n",
    "ModelEvaluation.show_roc_curve(test_y, clf.predict_proba(test_x)[:, 1], model_list[0])"
   ]
  },
  {
   "cell_type": "code",
   "execution_count": null,
   "metadata": {},
   "outputs": [],
   "source": [
    "df_pred =  pd.concat([df_pred,ModelEvaluation.get_test_result(clf, df_test.iloc[:, :], model_list[0]).head(10)], axis = 1)"
   ]
  },
  {
   "cell_type": "markdown",
   "metadata": {},
   "source": [
    "#### KNN"
   ]
  },
  {
   "cell_type": "code",
   "execution_count": null,
   "metadata": {},
   "outputs": [],
   "source": [
    "show_model_status(model_list[2])\n",
    "param_grid_knn = [{'n_neighbors':list(range(8,12))}]\n",
    "# 选择最优参数\n",
    "paramselect = ParamSelect(train_x, train_y, KNeighborsClassifier())\n",
    "best_param_knn = paramselect.get_best_param(param_grid_knn)"
   ]
  },
  {
   "cell_type": "code",
   "execution_count": null,
   "metadata": {},
   "outputs": [],
   "source": [
    "# 用最优参数训练模型\n",
    "clf = KNeighborsClassifier(**best_param_knn)\n",
    "df_score.loc[model_list[1], 'cv_f1_score'], df_score.loc[model_list[1], 'accuracy']= ModelEvaluation.my_pipeline(train_x, train_y, test_x, test_y, X, y, clf, model_list[1]), clf.score(test_x, test_y)"
   ]
  },
  {
   "cell_type": "code",
   "execution_count": null,
   "metadata": {},
   "outputs": [],
   "source": [
    "# roc曲线\n",
    "ModelEvaluation.show_roc_curve(test_y, clf.predict_proba(test_x)[:, 1], model_list[1])"
   ]
  },
  {
   "cell_type": "code",
   "execution_count": null,
   "metadata": {},
   "outputs": [],
   "source": [
    "df_pred =  pd.concat([df_pred,ModelEvaluation.get_test_result(clf, df_test.iloc[:, :], model_list[1]).head(10)], axis = 1)"
   ]
  },
  {
   "cell_type": "markdown",
   "metadata": {},
   "source": [
    "#### SVM"
   ]
  },
  {
   "cell_type": "code",
   "execution_count": null,
   "metadata": {},
   "outputs": [],
   "source": [
    "show_model_status(model_list[1])\n",
    "# 给定超参数范围\n",
    "# {'C': param_range_svm, 'kernel': ['rbf'], 'gamma':param_range_svm}\n",
    "# {'C': param_range_svm, 'kernel': ['linear']}\n",
    "param_range_svm = [ 0.1, 1]\n",
    "param_grid_svm = [{'C': param_range_svm, 'kernel': ['rbf'], 'gamma':param_range_svm}]\n",
    "# 选择最优参数\n",
    "paramselect = ParamSelect(train_x, train_y, svm.SVC())\n",
    "best_param_svm = paramselect.get_best_param(param_grid_svm)"
   ]
  },
  {
   "cell_type": "code",
   "execution_count": null,
   "metadata": {},
   "outputs": [],
   "source": [
    "# 用最优参数训练模型\n",
    "clf = svm.SVC(**best_param_svm, probability=True)\n",
    "df_score.loc[model_list[2], 'cv_f1_score'], df_score.loc[model_list[2], 'accuracy']= ModelEvaluation.my_pipeline(train_x, train_y, test_x, test_y, X, y, clf, model_list[2]), clf.score(test_x, test_y)"
   ]
  },
  {
   "cell_type": "code",
   "execution_count": null,
   "metadata": {},
   "outputs": [],
   "source": [
    "# roc 曲线\n",
    "ModelEvaluation.show_roc_curve(test_y, clf.predict_proba(test_x)[:, 1], model_list[2])"
   ]
  },
  {
   "cell_type": "code",
   "execution_count": null,
   "metadata": {},
   "outputs": [],
   "source": [
    "df_pred =  pd.concat([df_pred,ModelEvaluation.get_test_result(clf, df_test.iloc[:, :], model_list[2]).head(10)], axis = 1)"
   ]
  },
  {
   "cell_type": "markdown",
   "metadata": {},
   "source": [
    "### 最终结果"
   ]
  },
  {
   "cell_type": "code",
   "execution_count": null,
   "metadata": {},
   "outputs": [],
   "source": [
    "df_score"
   ]
  },
  {
   "cell_type": "code",
   "execution_count": null,
   "metadata": {},
   "outputs": [],
   "source": [
    "df_pred"
   ]
  },
  {
   "cell_type": "code",
   "execution_count": null,
   "metadata": {},
   "outputs": [],
   "source": [
    "df_score.sort_values(by='cv_f1_score', ascending = False)"
   ]
  },
  {
   "cell_type": "code",
   "execution_count": null,
   "metadata": {},
   "outputs": [],
   "source": []
  }
 ],
 "metadata": {
  "hide_input": false,
  "kernelspec": {
   "display_name": "Python 3",
   "language": "python",
   "name": "python3"
  },
  "language_info": {
   "codemirror_mode": {
    "name": "ipython",
    "version": 3
   },
   "file_extension": ".py",
   "mimetype": "text/x-python",
   "name": "python",
   "nbconvert_exporter": "python",
   "pygments_lexer": "ipython3",
   "version": "3.7.4"
  },
  "toc": {
   "base_numbering": 1,
   "nav_menu": {},
   "number_sections": true,
   "sideBar": true,
   "skip_h1_title": false,
   "title_cell": "Table of Contents",
   "title_sidebar": "Contents",
   "toc_cell": false,
   "toc_position": {
    "height": "calc(100% - 180px)",
    "left": "10px",
    "top": "150px",
    "width": "344.188px"
   },
   "toc_section_display": true,
   "toc_window_display": true
  },
  "varInspector": {
   "cols": {
    "lenName": 16,
    "lenType": 16,
    "lenVar": 40
   },
   "kernels_config": {
    "python": {
     "delete_cmd_postfix": "",
     "delete_cmd_prefix": "del ",
     "library": "var_list.py",
     "varRefreshCmd": "print(var_dic_list())"
    },
    "r": {
     "delete_cmd_postfix": ") ",
     "delete_cmd_prefix": "rm(",
     "library": "var_list.r",
     "varRefreshCmd": "cat(var_dic_list()) "
    }
   },
   "types_to_exclude": [
    "module",
    "function",
    "builtin_function_or_method",
    "instance",
    "_Feature"
   ],
   "window_display": false
  }
 },
 "nbformat": 4,
 "nbformat_minor": 2
}
